{
 "cells": [
  {
   "cell_type": "markdown",
   "metadata": {},
   "source": [
    "Zadanie Pre-selekcjine\n",
    "\n",
    "Wszyscy mówią o social mediach, analizują dostępne dane i wykorzystują je aby zyskać\n",
    "przewagę na rynku. Nie możemy być ostatni w tym wyścigu. Też chcemy z nich skorzystać, ale\n",
    "niestety nie wiemy jak… Dlatego potrzebujemy Twojej pomocy!\n",
    "Chcemy zrozumieć specyfikę zgromadzonych danych oraz potencjalnych zależności między\n",
    "naszymi bankowymi danymi a danymi z social mediów. Wybraliśmy jedynie aktywnych\n",
    "klientów posiadających przynajmniej 1 aktywne konto w jednym z 4 najpopularniejszych\n",
    "portali społecznościowych"
   ]
  },
  {
   "cell_type": "code",
   "execution_count": 12,
   "metadata": {},
   "outputs": [],
   "source": [
    "import pandas as pd\n",
    "import seaborn as sns"
   ]
  },
  {
   "cell_type": "code",
   "execution_count": 7,
   "metadata": {},
   "outputs": [],
   "source": [
    "data = pd.read_csv(\"DANE.csv\", delimiter=';', na_values=\"NA\")"
   ]
  },
  {
   "cell_type": "code",
   "execution_count": 8,
   "metadata": {},
   "outputs": [
    {
     "data": {
      "text/html": [
       "<div>\n",
       "<style scoped>\n",
       "    .dataframe tbody tr th:only-of-type {\n",
       "        vertical-align: middle;\n",
       "    }\n",
       "\n",
       "    .dataframe tbody tr th {\n",
       "        vertical-align: top;\n",
       "    }\n",
       "\n",
       "    .dataframe thead th {\n",
       "        text-align: right;\n",
       "    }\n",
       "</style>\n",
       "<table border=\"1\" class=\"dataframe\">\n",
       "  <thead>\n",
       "    <tr style=\"text-align: right;\">\n",
       "      <th></th>\n",
       "      <th>Unnamed: 0</th>\n",
       "      <th>id</th>\n",
       "      <th>data_start</th>\n",
       "      <th>depozyt</th>\n",
       "      <th>saldo</th>\n",
       "      <th>kredyt</th>\n",
       "      <th>typ_kredytu</th>\n",
       "      <th>wnioskowana_kwota</th>\n",
       "      <th>przyznana_kwota</th>\n",
       "      <th>akcja</th>\n",
       "      <th>SM_liczba_kont</th>\n",
       "      <th>SM_liczba_znajomych</th>\n",
       "      <th>SM_liczba_tag</th>\n",
       "      <th>SM_liczba_polubien</th>\n",
       "    </tr>\n",
       "  </thead>\n",
       "  <tbody>\n",
       "    <tr>\n",
       "      <th>0</th>\n",
       "      <td>1</td>\n",
       "      <td>1</td>\n",
       "      <td>2017-04-05</td>\n",
       "      <td>1</td>\n",
       "      <td>0.0</td>\n",
       "      <td>1</td>\n",
       "      <td>karta kredytowa</td>\n",
       "      <td>1900.0</td>\n",
       "      <td>1900.0</td>\n",
       "      <td>0</td>\n",
       "      <td>4</td>\n",
       "      <td>442</td>\n",
       "      <td>0</td>\n",
       "      <td>0</td>\n",
       "    </tr>\n",
       "    <tr>\n",
       "      <th>1</th>\n",
       "      <td>2</td>\n",
       "      <td>2</td>\n",
       "      <td>2017-06-29</td>\n",
       "      <td>1</td>\n",
       "      <td>0.0</td>\n",
       "      <td>0</td>\n",
       "      <td>NaN</td>\n",
       "      <td>600.0</td>\n",
       "      <td>NaN</td>\n",
       "      <td>0</td>\n",
       "      <td>3</td>\n",
       "      <td>659</td>\n",
       "      <td>0</td>\n",
       "      <td>0</td>\n",
       "    </tr>\n",
       "    <tr>\n",
       "      <th>2</th>\n",
       "      <td>3</td>\n",
       "      <td>3</td>\n",
       "      <td>2017-10-13</td>\n",
       "      <td>0</td>\n",
       "      <td>NaN</td>\n",
       "      <td>1</td>\n",
       "      <td>karta kredytowa</td>\n",
       "      <td>4500.0</td>\n",
       "      <td>4500.0</td>\n",
       "      <td>1</td>\n",
       "      <td>1</td>\n",
       "      <td>171</td>\n",
       "      <td>4</td>\n",
       "      <td>7</td>\n",
       "    </tr>\n",
       "    <tr>\n",
       "      <th>3</th>\n",
       "      <td>4</td>\n",
       "      <td>4</td>\n",
       "      <td>2017-08-31</td>\n",
       "      <td>1</td>\n",
       "      <td>4870.0</td>\n",
       "      <td>0</td>\n",
       "      <td>NaN</td>\n",
       "      <td>NaN</td>\n",
       "      <td>NaN</td>\n",
       "      <td>1</td>\n",
       "      <td>2</td>\n",
       "      <td>56</td>\n",
       "      <td>6</td>\n",
       "      <td>3</td>\n",
       "    </tr>\n",
       "    <tr>\n",
       "      <th>4</th>\n",
       "      <td>5</td>\n",
       "      <td>5</td>\n",
       "      <td>2017-07-20</td>\n",
       "      <td>1</td>\n",
       "      <td>6570.0</td>\n",
       "      <td>0</td>\n",
       "      <td>NaN</td>\n",
       "      <td>NaN</td>\n",
       "      <td>NaN</td>\n",
       "      <td>0</td>\n",
       "      <td>2</td>\n",
       "      <td>195</td>\n",
       "      <td>5</td>\n",
       "      <td>2</td>\n",
       "    </tr>\n",
       "  </tbody>\n",
       "</table>\n",
       "</div>"
      ],
      "text/plain": [
       "   Unnamed: 0  id  data_start  depozyt   saldo  kredyt      typ_kredytu  \\\n",
       "0           1   1  2017-04-05        1     0.0       1  karta kredytowa   \n",
       "1           2   2  2017-06-29        1     0.0       0              NaN   \n",
       "2           3   3  2017-10-13        0     NaN       1  karta kredytowa   \n",
       "3           4   4  2017-08-31        1  4870.0       0              NaN   \n",
       "4           5   5  2017-07-20        1  6570.0       0              NaN   \n",
       "\n",
       "   wnioskowana_kwota  przyznana_kwota  akcja  SM_liczba_kont  \\\n",
       "0             1900.0           1900.0      0               4   \n",
       "1              600.0              NaN      0               3   \n",
       "2             4500.0           4500.0      1               1   \n",
       "3                NaN              NaN      1               2   \n",
       "4                NaN              NaN      0               2   \n",
       "\n",
       "   SM_liczba_znajomych  SM_liczba_tag  SM_liczba_polubien  \n",
       "0                  442              0                   0  \n",
       "1                  659              0                   0  \n",
       "2                  171              4                   7  \n",
       "3                   56              6                   3  \n",
       "4                  195              5                   2  "
      ]
     },
     "execution_count": 8,
     "metadata": {},
     "output_type": "execute_result"
    }
   ],
   "source": [
    "data.head()"
   ]
  },
  {
   "cell_type": "markdown",
   "metadata": {},
   "source": [
    "* 1) id [unikalny identyfikator klienta];\n",
    "* 2) data_start [data zawiązania przyjaźni  danego klienta z nami];\n",
    "* 3) depozyt [1 – klient posiada rachunek depozytowy; 0 – klient nie posiada rachunku\n",
    "depozytowego];\n",
    "* 4) saldo – [wartość salda na rachunku depozytowym w poprzednim miesiącu; w PLN];\n",
    "* 5) kredyt [1 – klient posiada rachunek kredytowy; 0 – klient nie posiada rachunku\n",
    "kredytowego];\n",
    "* 6) typ_kredytu [typ kredytu: 1 – karta kredytowa, 2 – limit w koncie, 3 – kredyt ratalny];\n",
    "* 7) wnioskowana_kwota [wnioskowana kwota kredytu, w PLN] - „NA” oznacza brak\n",
    "wnioskowania;\n",
    "* 8) przyznana_kwota [przyznana kwota kredytu, w PLN] - „NA” oznacza brak przyznanej\n",
    "kwoty kredytu;\n",
    "* 9) akcja [1 – klient nabył ubezpieczenie na życie, 0 – nie nabył ubezpieczenia na życie].\n",
    "\n",
    "A z social mediów udało nam się potajemnie pozyskać:\n",
    "* 1) SM_liczba_kont [liczba kont na 4 najpopularniejszych portalach społecznościowych];\n",
    "* 2) SM_liczba_znajomych [liczba unikalnych znajomych na 4 najpopularniejszych portalach\n",
    "społecznościowych];\n",
    "* 3) SM_liczba_tag [liczba zdjęć z tagami miejsc poza granicami kraju; dane od założenia\n",
    "pierwszego konta na jednym z portali społecznościowych];\n",
    "* 4) SM_liczba_polubien [średnia liczba polubień zdjęć publikowanych przez klienta; dane z\n",
    "ostatnich 12 miesięcy].\n"
   ]
  },
  {
   "cell_type": "markdown",
   "metadata": {},
   "source": [
    "A teraz najważniejsze - nie mów nikomu, ale te nasze wyjątkowe, sekretne dane udostępniamy\n",
    "specjalnie dla Ciebie w załączonym pliku dane.csv abyś mogła/mógł nam pomóc lepiej\n",
    "zrozumieć specyfikę poszczególnych zmiennych i zależności między nimi:\n",
    "* 1) Konkurencja (cichosza….!) twierdzi, że rozkład zmiennej SM_liczba_znajomych ma\n",
    "znaczenie. Dobrze by więc było zbadać jego charakterystykę, aby wskazać nam cechy\n",
    "rozkładu, którą mogą mieć istotne znaczenie w dalszych analizach (uwzględniających\n",
    "tą zmienną).\n",
    "* 2) Tajemniczy Don Pedro, szpieg z krainy deszczowców donosi, że liczba zdjęć wykonanych\n",
    "za granicą może mieć może być powiązana z wysokość salda na rachunku\n",
    "depozytowym. Trzeba by więc zbadać taką zależność, niestety nie wiemy jaką miarę\n",
    "użyć do wykonania takiej analizy, więc musisz liczyć na siebie. Podobno warto\n",
    "zastanowić nie tylko, czy istnieje współzależność między tymi zmiennymi, ale również\n",
    "jak jest ona silna? Chcielibyśmy też wiedzieć w jaki sposób uzasadnić taką zależność.\n",
    "* 3) Czasami udaje nam się sprzedać ubezpieczenie na życie, ale niestety nie wiemy\n",
    "dlaczego. Potrzebujemy więc zrozumieć jakie cechy klienta determinują pozytywną\n",
    "odpowiedź na tę akcję, abyśmy mogli trochę więcej zarobić i Cię zatrudnić do naszego\n",
    "zespołu. Wszystko zależy więc od Ciebie – zaproponuj metodę analizy tego problemu\n",
    "oraz na podstawie uzyskanych wyników oceń jej poprawność, a my sprawdzimy ile da\n",
    "się na tym zarobić "
   ]
  },
  {
   "cell_type": "code",
   "execution_count": 11,
   "metadata": {},
   "outputs": [
    {
     "data": {
      "text/plain": [
       "karta kredytowa    1633\n",
       "kredyt ratalny     1528\n",
       "limit w koncie      471\n",
       "Name: typ_kredytu, dtype: int64"
      ]
     },
     "execution_count": 11,
     "metadata": {},
     "output_type": "execute_result"
    }
   ],
   "source": [
    "data.typ_kredytu.value_counts()"
   ]
  },
  {
   "cell_type": "code",
   "execution_count": 16,
   "metadata": {},
   "outputs": [
    {
     "data": {
      "text/plain": [
       "<matplotlib.axes._subplots.AxesSubplot at 0x7fa5849df080>"
      ]
     },
     "execution_count": 16,
     "metadata": {},
     "output_type": "execute_result"
    },
    {
     "data": {
      "image/png": "[encoded data removed]",
      "text/plain": [
       "<matplotlib.figure.Figure at 0x7fa58495c780>"
      ]
     },
     "metadata": {},
     "output_type": "display_data"
    }
   ],
   "source": [
    "sns.barplot(data.SM_liczba_polubien,data.saldo)"
   ]
  },
  {
   "cell_type": "code",
   "execution_count": null,
   "metadata": {},
   "outputs": [],
   "source": []
  }
 ],
 "metadata": {
  "kernelspec": {
   "display_name": "Python 3",
   "language": "python",
   "name": "python3"
  },
  "language_info": {
   "codemirror_mode": {
    "name": "ipython",
    "version": 3
   },
   "file_extension": ".py",
   "mimetype": "text/x-python",
   "name": "python",
   "nbconvert_exporter": "python",
   "pygments_lexer": "ipython3",
   "version": "3.6.4"
  }
 },
 "nbformat": 4,
 "nbformat_minor": 2
}
